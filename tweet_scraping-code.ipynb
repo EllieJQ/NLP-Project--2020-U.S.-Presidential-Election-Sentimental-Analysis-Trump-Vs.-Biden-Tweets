{
 "cells": [
  {
   "cell_type": "code",
   "execution_count": 3,
   "metadata": {},
   "outputs": [],
   "source": [
    "\n",
    "#Tweepy is a python library to access Twitter API.\n",
    "import tweepy\n",
    "import csv\n",
    "import pandas as pd"
   ]
  },
  {
   "cell_type": "code",
   "execution_count": 4,
   "metadata": {},
   "outputs": [],
   "source": [
    "#Provide your own credentials here.\n",
    "consumer_key = \"EN8iBa01n3bRCt01seQWysBzG\"\n",
    "consumer_secret = \"Kg5lG86trMlMFOIrBkeLQPae34qgbZWLpljS7dC6KSIPkhpr1I\"\n",
    "access_token = \"52433303-rB0QUWzvFj0A6xFDPJ3HtkndU6Vwlj2YdYneYJEfk\"\n",
    "access_token_secret = \"BOObejRb8IZ9KEg18Mr3mKeqievkiMTVzUR3WrZbUZ7Ld\""
   ]
  },
  {
   "cell_type": "code",
   "execution_count": 5,
   "metadata": {},
   "outputs": [],
   "source": [
    "auth = tweepy.OAuthHandler(consumer_key, consumer_secret)\n",
    "auth.set_access_token(access_token, access_token_secret)\n",
    "api = tweepy.API(auth,wait_on_rate_limit=True)"
   ]
  },
  {
   "cell_type": "code",
   "execution_count": 6,
   "metadata": {},
   "outputs": [
    {
     "name": "stdout",
     "output_type": "stream",
     "text": [
      "Collecting snscrape\n",
      "  Downloading snscrape-0.3.4-py3-none-any.whl (35 kB)\n",
      "Requirement already satisfied: beautifulsoup4 in c:\\users\\ellie\\anaconda3\\lib\\site-packages (from snscrape) (4.9.1)\n",
      "Requirement already satisfied: lxml in c:\\users\\ellie\\anaconda3\\lib\\site-packages (from snscrape) (4.5.2)\n",
      "Requirement already satisfied: requests[socks] in c:\\users\\ellie\\anaconda3\\lib\\site-packages (from snscrape) (2.25.0)\n",
      "Requirement already satisfied: soupsieve>1.2 in c:\\users\\ellie\\anaconda3\\lib\\site-packages (from beautifulsoup4->snscrape) (2.0.1)\n",
      "Requirement already satisfied: idna<3,>=2.5 in c:\\users\\ellie\\anaconda3\\lib\\site-packages (from requests[socks]->snscrape) (2.10)\n",
      "Requirement already satisfied: urllib3<1.27,>=1.21.1 in c:\\users\\ellie\\anaconda3\\lib\\site-packages (from requests[socks]->snscrape) (1.25.10)\n",
      "Requirement already satisfied: chardet<4,>=3.0.2 in c:\\users\\ellie\\anaconda3\\lib\\site-packages (from requests[socks]->snscrape) (3.0.4)\n",
      "Requirement already satisfied: certifi>=2017.4.17 in c:\\users\\ellie\\anaconda3\\lib\\site-packages (from requests[socks]->snscrape) (2020.11.8)\n",
      "Requirement already satisfied: PySocks!=1.5.7,>=1.5.6; extra == \"socks\" in c:\\users\\ellie\\anaconda3\\lib\\site-packages (from requests[socks]->snscrape) (1.7.1)\n",
      "Installing collected packages: snscrape\n",
      "Successfully installed snscrape-0.3.4\n"
     ]
    }
   ],
   "source": [
    "!pip install snscrape"
   ]
  },
  {
   "cell_type": "code",
   "execution_count": 7,
   "metadata": {},
   "outputs": [],
   "source": [
    "import snscrape.modules.twitter as sntwitter"
   ]
  },
  {
   "cell_type": "code",
   "execution_count": 13,
   "metadata": {},
   "outputs": [],
   "source": [
    "csvFile = open('biden.csv', 'a') #creates a file in which you want to store the data.\n",
    "csvWriter = csv.writer(csvFile)\n"
   ]
  },
  {
   "cell_type": "code",
   "execution_count": 14,
   "metadata": {},
   "outputs": [],
   "source": [
    "maxTweets = 10000  # the number of tweets you require\n",
    "for i,tweet in enumerate(sntwitter.TwitterSearchScraper('from:@JoeBiden + since:2020-05-01 until:2020-11-03 -filter:links -filter:replies').get_items()) :\n",
    "        if i > maxTweets :\n",
    "            break\n",
    "        csvWriter.writerow([tweet.date, tweet.content.encode('utf-8')]) #If you need more information, just provide the attributes"
   ]
  },
  {
   "cell_type": "code",
   "execution_count": null,
   "metadata": {},
   "outputs": [],
   "source": []
  }
 ],
 "metadata": {
  "kernelspec": {
   "display_name": "Python 3",
   "language": "python",
   "name": "python3"
  },
  "language_info": {
   "codemirror_mode": {
    "name": "ipython",
    "version": 3
   },
   "file_extension": ".py",
   "mimetype": "text/x-python",
   "name": "python",
   "nbconvert_exporter": "python",
   "pygments_lexer": "ipython3",
   "version": "3.8.5"
  }
 },
 "nbformat": 4,
 "nbformat_minor": 2
}
